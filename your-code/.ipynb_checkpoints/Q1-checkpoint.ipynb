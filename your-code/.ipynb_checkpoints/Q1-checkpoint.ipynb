{
 "cells": [
  {
   "cell_type": "markdown",
   "metadata": {},
   "source": [
    "In the cell below, create a Python function that wraps your previous solution for the Bag of Words lab.\n",
    "\n",
    "Requirements:\n",
    "\n",
    "1. Your function should accept the following parameters:\n",
    "    * `docs` [REQUIRED] - array of document paths.\n",
    "    * `stop_words` [OPTIONAL] - array of stop words. The default value is an empty array.\n",
    "\n",
    "1. Your function should return a Python object that contains the following:\n",
    "    * `bag_of_words` - array of strings of normalized unique words in the corpus.\n",
    "    * `term_freq` - array of the term-frequency vectors."
   ]
  },
  {
   "cell_type": "code",
   "execution_count": 2,
   "metadata": {},
   "outputs": [
    {
     "name": "stdout",
     "output_type": "stream",
     "text": [
      "Requirement already satisfied: sklearn in /usr/local/lib/python3.7/site-packages (0.0)\r\n",
      "Requirement already satisfied: scikit-learn in /usr/local/lib/python3.7/site-packages (from sklearn) (0.21.2)\r\n",
      "Requirement already satisfied: numpy>=1.11.0 in /usr/local/lib/python3.7/site-packages (from scikit-learn->sklearn) (1.16.3)\r\n",
      "Requirement already satisfied: joblib>=0.11 in /usr/local/lib/python3.7/site-packages (from scikit-learn->sklearn) (0.13.2)\r\n",
      "Requirement already satisfied: scipy>=0.17.0 in /usr/local/lib/python3.7/site-packages (from scikit-learn->sklearn) (1.3.0)\r\n"
     ]
    }
   ],
   "source": [
    "# Import required libraries\n",
    "\n",
    "import os\n",
    "import re\n",
    "import sys\n",
    "!{sys.executable} -m pip install sklearn"
   ]
  },
  {
   "cell_type": "code",
   "execution_count": 3,
   "metadata": {},
   "outputs": [],
   "source": [
    "# Define function\n",
    "def get_bow_from_docs(docs, stop_words=[]):\n",
    "    \n",
    "    # In the function, first define the variables you will use such as `corpus`, `bag_of_words`, and `term_freq`.\n",
    "    corpus =[]\n",
    "    bag_of_words = []\n",
    "    term_freq = []\n",
    "    \n",
    "    \"\"\"\n",
    "    Loop `docs` and read the content of each doc into a string in `corpus`.\n",
    "    Remember to convert the doc content to lowercases and remove punctuation.\n",
    "    \"\"\"\n",
    "    for file in docs:\n",
    "        file_txt = open(file, \"r\")  \n",
    "        txt = file_txt.read()\n",
    "        pattern = \"\\w+\"\n",
    "        txt = (\" \".join(re.findall(pattern, txt.lower())))\n",
    "        corpus.append(txt)\n",
    "    \n",
    "    \"\"\"\n",
    "    Loop `corpus`. Append the terms in each doc into the `bag_of_words` array. The terms in `bag_of_words` \n",
    "    should be unique which means before adding each term you need to check if it's already added to the array.\n",
    "    In addition, check if each term is in the `stop_words` array. Only append the term to `bag_of_words`\n",
    "    if it is not a stop word.\n",
    "    \"\"\"\n",
    "    for string in corpus:\n",
    "        terms = string.split()\n",
    "        for term in terms:\n",
    "            if term not in bag_of_words and term not in stop_words:\n",
    "                bag_of_words.append(term)\n",
    "    \n",
    "    \"\"\"\n",
    "    Loop `corpus` again. For each doc string, count the number of occurrences of each term in `bag_of_words`. \n",
    "    Create an array for each doc's term frequency and append it to `term_freq`.\n",
    "    \"\"\"\n",
    "    for string in corpus:\n",
    "        string_terms = string.split()\n",
    "        string_term_count = []\n",
    "        for term in bag_of_words:\n",
    "            count = 0\n",
    "            for i in range(0, len(string_terms)):\n",
    "                if term == string_terms[i]:\n",
    "                    count += 1\n",
    "            string_term_count.append(count)   \n",
    "        term_freq.append(string_term_count)\n",
    "    \n",
    "    \n",
    "    # Now return your output as an object\n",
    "    return {\n",
    "        \"bag_of_words\": bag_of_words,\n",
    "        \"term_freq\": term_freq\n",
    "    }\n"
   ]
  },
  {
   "cell_type": "markdown",
   "metadata": {},
   "source": [
    "Test your function without stop words. You should see the output like below:\n",
    "\n",
    "```{'bag_of_words': ['ironhack', 'is', 'cool', 'i', 'love', 'am', 'a', 'student', 'at'], 'term_freq': [[1, 1, 1, 0, 0, 0, 0, 0, 0], [1, 0, 0, 1, 1, 0, 0, 0, 0], [1, 0, 0, 1, 0, 1, 1, 1, 1]]}```"
   ]
  },
  {
   "cell_type": "code",
   "execution_count": 4,
   "metadata": {},
   "outputs": [
    {
     "name": "stdout",
     "output_type": "stream",
     "text": [
      "{'bag_of_words': ['ironhack', 'is', 'cool', 'i', 'love', 'am', 'a', 'student', 'at'], 'term_freq': [[1, 1, 1, 0, 0, 0, 0, 0, 0], [1, 0, 0, 1, 1, 0, 0, 0, 0], [1, 0, 0, 1, 0, 1, 1, 1, 1]]}\n"
     ]
    }
   ],
   "source": [
    "# Define doc paths array\n",
    "path = os.getcwd()\n",
    "docs = ['doc1.txt','doc2.txt','doc3.txt']\n",
    "doc_paths = [path + \"/\" + file for file in docs]\n",
    "\n",
    "# Obtain BoW from your function\n",
    "bow = get_bow_from_docs(docs)\n",
    "\n",
    "# Print BoW\n",
    "print(bow)"
   ]
  },
  {
   "cell_type": "markdown",
   "metadata": {},
   "source": [
    "If your attempt above is successful, nice work done!\n",
    "\n",
    "Now test your function again with the stop words. In the previous lab we defined the stop words in a large array. In this lab, we'll import the stop words from Scikit-Learn."
   ]
  },
  {
   "cell_type": "code",
   "execution_count": 5,
   "metadata": {},
   "outputs": [
    {
     "name": "stdout",
     "output_type": "stream",
     "text": [
      "frozenset({'none', 'we', 'less', 'except', 'whereby', 'neither', 'in', 'they', 'to', 'before', 'out', 'part', 'thence', 'here', 'hence', 'on', 'ourselves', 'own', 'thin', 'up', 'give', 'there', 'amongst', 'full', 'them', 'over', 'also', 'myself', 'nevertheless', 'others', 'thereby', 'ours', 'front', 'us', 'amount', 'mill', 'take', 'of', 'hereupon', 'either', 'through', 'much', 'became', 'therein', 'find', 'inc', 'beside', 'noone', 'that', 'no', 'seem', 'become', 'whose', 'hundred', 'fifteen', 'his', 'might', 'another', 'still', 'whereafter', 'do', 'below', 'found', 'due', 'everywhere', 'once', 'as', 'eleven', 'keep', 'nothing', 'an', 'hereby', 'all', 'beforehand', 'un', 'very', 'hers', 'toward', 'it', 'within', 'so', 'four', 'wherein', 'somehow', 'other', 'whole', 'fill', 'anyway', 'how', 'put', 'you', 'during', 'its', 'six', 'eight', 'rather', 'again', 'both', 'well', 'sometime', 'have', 'same', 'about', 'our', 'afterwards', 'can', 'i', 'alone', 'may', 'always', 'never', 'twelve', 'whence', 'between', 'serious', 'de', 'because', 'been', 'further', 'besides', 'across', 'around', 'perhaps', 'upon', 'a', 'but', 'any', 'being', 'hasnt', 'towards', 'anyhow', 'describe', 'without', 'which', 'cant', 'your', 'among', 'least', 'sometimes', 'call', 'indeed', 'everything', 'side', 'one', 'too', 'throughout', 'mostly', 'con', 'yourself', 'are', 'back', 'even', 'meanwhile', 'cannot', 'until', 'last', 'nor', 'many', 'thereafter', 'then', 'when', 'name', 'only', 'since', 'moreover', 'than', 'yours', 'seems', 'by', 'has', 'this', 'ie', 'move', 'beyond', 'be', 'more', 'hereafter', 'was', 'co', 'detail', 'me', 'five', 'former', 'into', 'must', 'fire', 'yet', 'enough', 'go', 'two', 'my', 'whether', 'at', 'against', 'behind', 'already', 'becomes', 'such', 'him', 'some', 'latter', 'becoming', 'ten', 'onto', 'first', 'anywhere', 'namely', 'whom', 'top', 'could', 'yourselves', 'who', 'three', 'thus', 'she', 'while', 'above', 'am', 'otherwise', 'show', 'eg', 'nowhere', 'their', 'whereas', 'nobody', 'whither', 'down', 'every', 'done', 'mine', 'often', 're', 'seeming', 'thru', 'something', 'these', 'not', 'itself', 'each', 'the', 'next', 'herself', 'he', 'thick', 'with', 'though', 'off', 'himself', 'third', 'where', 'see', 'together', 'bottom', 'what', 'forty', 'whereupon', 'or', 'would', 'amoungst', 'now', 'herein', 'etc', 'get', 'whoever', 'bill', 'empty', 'per', 'her', 'anything', 'couldnt', 'please', 'somewhere', 'seemed', 'were', 'will', 'although', 'and', 'most', 'along', 'someone', 'several', 'thereupon', 'twenty', 'sixty', 'latterly', 'cry', 'after', 'under', 'everyone', 'wherever', 'nine', 'ltd', 'if', 'whenever', 'system', 'those', 'almost', 'sincere', 'ever', 'therefore', 'whatever', 'had', 'made', 'formerly', 'should', 'interest', 'for', 'fifty', 'however', 'elsewhere', 'else', 'from', 'via', 'is', 'themselves', 'why', 'anyone', 'few'})\n"
     ]
    }
   ],
   "source": [
    "from sklearn.feature_extraction import stop_words\n",
    "print(stop_words.ENGLISH_STOP_WORDS)"
   ]
  },
  {
   "cell_type": "markdown",
   "metadata": {},
   "source": [
    "You should have seen a large list of words that looks like:\n",
    "\n",
    "```frozenset({'across', 'mine', 'cannot', ...})```\n",
    "\n",
    "`frozenset` is a type of Python object that is immutable. In this lab you can use it just like an array without conversion."
   ]
  },
  {
   "cell_type": "markdown",
   "metadata": {},
   "source": [
    "Next, test your function with supplying `stop_words.ENGLISH_STOP_WORDS` as the second parameter."
   ]
  },
  {
   "cell_type": "code",
   "execution_count": 6,
   "metadata": {},
   "outputs": [
    {
     "name": "stdout",
     "output_type": "stream",
     "text": [
      "{'bag_of_words': ['ironhack', 'cool', 'love', 'student'], 'term_freq': [[1, 1, 0, 0], [1, 0, 1, 0], [1, 0, 0, 1]]}\n"
     ]
    }
   ],
   "source": [
    "bow = get_bow_from_docs(docs, stop_words.ENGLISH_STOP_WORDS)\n",
    "\n",
    "print(bow)"
   ]
  },
  {
   "cell_type": "markdown",
   "metadata": {},
   "source": [
    "You should have seen:\n",
    "\n",
    "```{'bag_of_words': ['ironhack', 'cool', 'love', 'student'], 'term_freq': [[1, 1, 0, 0], [1, 0, 1, 0], [1, 0, 0, 1]]}```"
   ]
  }
 ],
 "metadata": {
  "kernelspec": {
   "display_name": "Python 3",
   "language": "python",
   "name": "python3"
  },
  "language_info": {
   "codemirror_mode": {
    "name": "ipython",
    "version": 3
   },
   "file_extension": ".py",
   "mimetype": "text/x-python",
   "name": "python",
   "nbconvert_exporter": "python",
   "pygments_lexer": "ipython3",
   "version": "3.7.3"
  }
 },
 "nbformat": 4,
 "nbformat_minor": 2
}
