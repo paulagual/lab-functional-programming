{
 "cells": [
  {
   "cell_type": "markdown",
   "metadata": {},
   "source": [
    "In the cell below, create a Python function that wraps your previous solution for the Bag of Words lab.\n",
    "\n",
    "Requirements:\n",
    "\n",
    "1. Your function should accept the following parameters:\n",
    "    * `docs` [REQUIRED] - array of document paths.\n",
    "    * `stop_words` [OPTIONAL] - array of stop words. The default value is an empty array.\n",
    "\n",
    "1. Your function should return a Python object that contains the following:\n",
    "    * `bag_of_words` - array of strings of normalized unique words in the corpus.\n",
    "    * `term_freq` - array of the term-frequency vectors."
   ]
  },
  {
   "cell_type": "code",
   "execution_count": 17,
   "metadata": {},
   "outputs": [
    {
     "name": "stdout",
     "output_type": "stream",
     "text": [
      "Requirement already satisfied: sklearn in /usr/local/lib/python3.7/site-packages (0.0)\n",
      "Requirement already satisfied: scikit-learn in /usr/local/lib/python3.7/site-packages (from sklearn) (0.21.2)\n",
      "Requirement already satisfied: numpy>=1.11.0 in /usr/local/lib/python3.7/site-packages (from scikit-learn->sklearn) (1.16.3)\n",
      "Requirement already satisfied: joblib>=0.11 in /usr/local/lib/python3.7/site-packages (from scikit-learn->sklearn) (0.13.2)\n",
      "Requirement already satisfied: scipy>=0.17.0 in /usr/local/lib/python3.7/site-packages (from scikit-learn->sklearn) (1.3.0)\n"
     ]
    }
   ],
   "source": [
    "# Import required libraries\n",
    "\n",
    "import os\n",
    "import re\n",
    "import sys\n",
    "!{sys.executable} -m pip install sklearn"
   ]
  },
  {
   "cell_type": "code",
   "execution_count": 18,
   "metadata": {},
   "outputs": [],
   "source": [
    "# Define function\n",
    "def get_bow_from_docs(docs, stop_words=[]):\n",
    "    \n",
    "    # In the function, first define the variables you will use such as `corpus`, `bag_of_words`, and `term_freq`.\n",
    "    corpus =[]\n",
    "    bag_of_words = []\n",
    "    term_freq = []\n",
    "    \n",
    "    \"\"\"\n",
    "    Loop `docs` and read the content of each doc into a string in `corpus`.\n",
    "    Remember to convert the doc content to lowercases and remove punctuation.\n",
    "    \"\"\"\n",
    "    for file in docs:\n",
    "        file_txt = open(file, \"r\")  \n",
    "        txt = file_txt.read()\n",
    "        pattern = \"\\w+\"\n",
    "        txt = (\" \".join(re.findall(pattern, txt.lower())))\n",
    "        corpus.append(txt)\n",
    "    \n",
    "    \"\"\"\n",
    "    Loop `corpus`. Append the terms in each doc into the `bag_of_words` array. The terms in `bag_of_words` \n",
    "    should be unique which means before adding each term you need to check if it's already added to the array.\n",
    "    In addition, check if each term is in the `stop_words` array. Only append the term to `bag_of_words`\n",
    "    if it is not a stop word.\n",
    "    \"\"\"\n",
    "    for string in corpus:\n",
    "        terms = string.split()\n",
    "        for term in terms:\n",
    "            if term not in bag_of_words and term not in stop_words:\n",
    "                bag_of_words.append(term)\n",
    "    \n",
    "    \"\"\"\n",
    "    Loop `corpus` again. For each doc string, count the number of occurrences of each term in `bag_of_words`. \n",
    "    Create an array for each doc's term frequency and append it to `term_freq`.\n",
    "    \"\"\"\n",
    "    for string in corpus:\n",
    "        string_terms = string.split()\n",
    "        string_term_count = []\n",
    "        for term in bag_of_words:\n",
    "            count = 0\n",
    "            for i in range(0, len(string_terms)):\n",
    "                if term == string_terms[i]:\n",
    "                    count += 1\n",
    "            string_term_count.append(count)   \n",
    "        term_freq.append(string_term_count)\n",
    "    \n",
    "    \n",
    "    # Now return your output as an object\n",
    "    return {\n",
    "        \"bag_of_words\": bag_of_words,\n",
    "        \"term_freq\": term_freq\n",
    "    }\n"
   ]
  },
  {
   "cell_type": "markdown",
   "metadata": {},
   "source": [
    "Test your function without stop words. You should see the output like below:\n",
    "\n",
    "```{'bag_of_words': ['ironhack', 'is', 'cool', 'i', 'love', 'am', 'a', 'student', 'at'], 'term_freq': [[1, 1, 1, 0, 0, 0, 0, 0, 0], [1, 0, 0, 1, 1, 0, 0, 0, 0], [1, 0, 0, 1, 0, 1, 1, 1, 1]]}```"
   ]
  },
  {
   "cell_type": "code",
   "execution_count": 19,
   "metadata": {},
   "outputs": [
    {
     "name": "stdout",
     "output_type": "stream",
     "text": [
      "{'bag_of_words': ['ironhack', 'is', 'cool', 'i', 'love', 'am', 'a', 'student', 'at'], 'term_freq': [[1, 1, 1, 0, 0, 0, 0, 0, 0], [1, 0, 0, 1, 1, 0, 0, 0, 0], [1, 0, 0, 1, 0, 1, 1, 1, 1]]}\n"
     ]
    }
   ],
   "source": [
    "# Define doc paths array\n",
    "path = os.getcwd()\n",
    "docs = ['doc1.txt','doc2.txt','doc3.txt']\n",
    "doc_paths = [path + \"/\" + file for file in docs]\n",
    "\n",
    "# Obtain BoW from your function\n",
    "bow = get_bow_from_docs(docs)\n",
    "\n",
    "# Print BoW\n",
    "print(bow)"
   ]
  },
  {
   "cell_type": "markdown",
   "metadata": {},
   "source": [
    "If your attempt above is successful, nice work done!\n",
    "\n",
    "Now test your function again with the stop words. In the previous lab we defined the stop words in a large array. In this lab, we'll import the stop words from Scikit-Learn."
   ]
  },
  {
   "cell_type": "code",
   "execution_count": 20,
   "metadata": {},
   "outputs": [
    {
     "name": "stdout",
     "output_type": "stream",
     "text": [
      "frozenset({'few', 'amongst', 'somehow', 'himself', 'have', 'two', 'its', 'give', 'a', 'etc', 'yet', 'afterwards', 'here', 'full', 'against', 'further', 'inc', 'former', 'all', 'hers', 'latterly', 'together', 'in', 'elsewhere', 'whence', 'always', 'empty', 'us', 'by', 'who', 'con', 'had', 'such', 'were', 'hereby', 'no', 'keep', 'many', 'are', 'and', 'seems', 'someone', 'her', 'even', 'neither', 'either', 'rather', 'one', 'may', 'for', 'top', 'along', 'we', 'except', 'whether', 'mostly', 'least', 'of', 'nowhere', 'sixty', 'where', 'made', 'around', 'but', 'wherein', 'otherwise', 'never', 'last', 'less', 'until', 'why', 'throughout', 'eg', 'through', 'whereupon', 'nor', 'whom', 'during', 'he', 'onto', 'bottom', 'those', 'under', 'else', 'others', 'third', 'front', 'mine', 'there', 'six', 'their', 'them', 'moreover', 'themselves', 'becoming', 'ever', 'again', 'whereby', 'other', 'him', 'nothing', 'ourselves', 'amoungst', 'becomes', 'see', 'be', 'yourself', 'everyone', 'everywhere', 'system', 'find', 'after', 'hereafter', 'ltd', 'side', 'found', 'thru', 'might', 'whenever', 'seemed', 'thick', 'must', 'next', 'itself', 'five', 'ten', 'among', 'anywhere', 'everything', 'per', 'something', 'you', 'not', 'will', 'anything', 'hereupon', 'whatever', 'or', 'nine', 'myself', 'my', 'being', 'would', 'sometime', 'from', 'without', 'became', 'when', 'namely', 'thence', 'part', 'name', 'already', 'serious', 'often', 'before', 'am', 'than', 'ie', 'noone', 'however', 'down', 'enough', 'twelve', 'move', 'call', 'couldnt', 'herein', 'which', 'eight', 'been', 'whereas', 'cannot', 'while', 'interest', 'well', 'fifty', 'most', 'as', 'co', 'do', 'whither', 'his', 'some', 'detail', 'ours', 'that', 'thereafter', 'towards', 'seeming', 'de', 'the', 'thin', 'cry', 'within', 'was', 'whoever', 'it', 'has', 'sometimes', 'own', 'they', 'anyhow', 'between', 'eleven', 'so', 'since', 'though', 'un', 'via', 'forty', 'put', 'any', 'each', 'is', 'what', 'fifteen', 'done', 'become', 'then', 'me', 'yourselves', 'beforehand', 'seem', 'every', 'could', 'first', 'should', 'therein', 'on', 'thereby', 'please', 'above', 'perhaps', 'therefore', 'both', 'take', 'latter', 'can', 'cant', 'into', 'due', 'out', 'same', 'describe', 'fill', 'hence', 'our', 'these', 'still', 'about', 'somewhere', 'below', 'thereupon', 'mill', 'none', 'nobody', 'now', 'thus', 'upon', 'hasnt', 'this', 'yours', 'formerly', 'amount', 'an', 'much', 'because', 'too', 'beyond', 'more', 'beside', 'wherever', 'another', 'she', 'at', 'anyone', 'several', 'across', 'behind', 'up', 'although', 'indeed', 'four', 'nevertheless', 'to', 'whole', 'sincere', 'i', 'whose', 'go', 'over', 'your', 'almost', 'very', 'three', 'show', 'hundred', 'with', 'toward', 'off', 'alone', 'twenty', 'herself', 'meanwhile', 'bill', 'how', 're', 'whereafter', 'only', 'back', 'get', 'fire', 'once', 'if', 'besides', 'also', 'anyway'})\n"
     ]
    }
   ],
   "source": [
    "from sklearn.feature_extraction import stop_words\n",
    "print(stop_words.ENGLISH_STOP_WORDS)"
   ]
  },
  {
   "cell_type": "markdown",
   "metadata": {},
   "source": [
    "You should have seen a large list of words that looks like:\n",
    "\n",
    "```frozenset({'across', 'mine', 'cannot', ...})```\n",
    "\n",
    "`frozenset` is a type of Python object that is immutable. In this lab you can use it just like an array without conversion."
   ]
  },
  {
   "cell_type": "markdown",
   "metadata": {},
   "source": [
    "Next, test your function with supplying `stop_words.ENGLISH_STOP_WORDS` as the second parameter."
   ]
  },
  {
   "cell_type": "code",
   "execution_count": 21,
   "metadata": {},
   "outputs": [
    {
     "name": "stdout",
     "output_type": "stream",
     "text": [
      "{'bag_of_words': ['ironhack', 'cool', 'love', 'student'], 'term_freq': [[1, 1, 0, 0], [1, 0, 1, 0], [1, 0, 0, 1]]}\n"
     ]
    }
   ],
   "source": [
    "#cambiado error bow = get_bow_from_docs(bow, stop_words.ENGLISH_STOP_WORDS)\n",
    "bow = get_bow_from_docs(docs, stop_words.ENGLISH_STOP_WORDS)\n",
    "\n",
    "print(bow)"
   ]
  },
  {
   "cell_type": "markdown",
   "metadata": {},
   "source": [
    "You should have seen:\n",
    "\n",
    "```{'bag_of_words': ['ironhack', 'cool', 'love', 'student'], 'term_freq': [[1, 1, 0, 0], [1, 0, 1, 0], [1, 0, 0, 1]]}```"
   ]
  }
 ],
 "metadata": {
  "kernelspec": {
   "display_name": "Python 3",
   "language": "python",
   "name": "python3"
  },
  "language_info": {
   "codemirror_mode": {
    "name": "ipython",
    "version": 3
   },
   "file_extension": ".py",
   "mimetype": "text/x-python",
   "name": "python",
   "nbconvert_exporter": "python",
   "pygments_lexer": "ipython3",
   "version": "3.7.3"
  }
 },
 "nbformat": 4,
 "nbformat_minor": 2
}
