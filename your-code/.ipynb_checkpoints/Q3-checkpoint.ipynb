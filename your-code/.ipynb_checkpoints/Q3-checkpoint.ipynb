{
 "cells": [
  {
   "cell_type": "markdown",
   "metadata": {},
   "source": [
    "**Lambda** is a special Python function type that is **anonymous**. By *anonymous* it means a lambda function does not have name. Lambda functions are embedded inside codes so that you don't call them like calling regular Python functions.\n",
    "\n",
    "**`Map`** applies a function to all the items in an input list. The function that is applied can be a standard or a lambda function.\n",
    "\n",
    "For instance, below is an example of multiplying number tuples in a list:"
   ]
  },
  {
   "cell_type": "code",
   "execution_count": 105,
   "metadata": {},
   "outputs": [
    {
     "data": {
      "text/plain": [
       "[2, 12, 30]"
      ]
     },
     "execution_count": 105,
     "metadata": {},
     "output_type": "execute_result"
    }
   ],
   "source": [
    "items = [(1,2), (3,4), (5,6)]\n",
    "\n",
    "def multiply(num_tuple):\n",
    "    return num_tuple[0]*num_tuple[1]\n",
    "list(map(multiply, items))"
   ]
  },
  {
   "cell_type": "markdown",
   "metadata": {},
   "source": [
    "...is the same as:"
   ]
  },
  {
   "cell_type": "code",
   "execution_count": 106,
   "metadata": {},
   "outputs": [
    {
     "data": {
      "text/plain": [
       "[2, 12, 30]"
      ]
     },
     "execution_count": 106,
     "metadata": {},
     "output_type": "execute_result"
    }
   ],
   "source": [
    "items = [(1,2), (3,4), (5,6)]\n",
    "list(map(lambda item: item[0]*item[1], items))"
   ]
  },
  {
   "cell_type": "markdown",
   "metadata": {},
   "source": [
    "Why do we sometimes use `lambda` and `map`? Because, as you see in the example above, they make your code really concise by combining 3 lines of code to 1 line.\n",
    "\n",
    "Besides `map`, there is also **`filter`** that selectively returns elements in an array according to whether you return `True`. There is also **`reduce`** that performs computation on a list of items then returns result.\n",
    "\n",
    "Here is a [good tutorial](http://book.pythontips.com/en/latest/map_filter.html) about `map`, `filter`, and `reduce`. Read it if you are not familiar with how they are used. Then proceed to the next cell."
   ]
  },
  {
   "cell_type": "markdown",
   "metadata": {},
   "source": [
    "In the next cell, use `filter` and `lambda` to return a list that contains positive numbers only. The output should be:\n",
    "\n",
    "```[1, 4, 5]```"
   ]
  },
  {
   "cell_type": "code",
   "execution_count": 107,
   "metadata": {},
   "outputs": [
    {
     "data": {
      "text/plain": [
       "[1, 4, 5]"
      ]
     },
     "execution_count": 107,
     "metadata": {},
     "output_type": "execute_result"
    }
   ],
   "source": [
    "numbers = [1, 4, -1, -100, 0, 5, -99]\n",
    "\n",
    "# Enter your code below\n",
    "\n",
    "list(filter(lambda number: number>0, numbers))\n"
   ]
  },
  {
   "cell_type": "markdown",
   "metadata": {},
   "source": [
    "Next, use `reduce` and `lambda` to return a string that only contains English terms. The English terms are separated with a whitespace ` `.\n",
    "\n",
    "Hints: \n",
    "\n",
    "* If your Jupyter Notebook cannot import `langdetect`, you need to install it with `pip install langdetect`. If Jupyter Notebook still cannot find the library, try install with `python3 -m pip install langdetect`. This is because you need to install `langdetect` in the same Python run environment where Jupyter Notebook is running.\n",
    "\n",
    "* If a word is English, `langdetect.detect(word)=='en'` will return `True`.\n",
    "\n",
    "Your output should read:\n",
    "\n",
    "```'good morning everyone'```"
   ]
  },
  {
   "cell_type": "code",
   "execution_count": 108,
   "metadata": {},
   "outputs": [
    {
     "name": "stdout",
     "output_type": "stream",
     "text": [
      "good morning everyone\n"
     ]
    }
   ],
   "source": [
    "import langdetect\n",
    "from functools import reduce\n",
    "words = ['good morning', '早上好', 'доброго', 'おはようございます', 'everyone', '大家', 'каждый', 'みんな']\n",
    "\n",
    "# Enter your code below\n",
    "en_words = []\n",
    "for word in words:\n",
    "    if \" \" in word:\n",
    "        words2 = word.split()\n",
    "        for word2 in words2:\n",
    "            if langdetect.detect(word2)=='en':\n",
    "                en_words.append(word)\n",
    "    elif langdetect.detect(word)=='en':\n",
    "        en_words.append(word)\n",
    "        \n",
    "print(reduce(lambda x, y: x + \" \" + y, en_words))"
   ]
  },
  {
   "cell_type": "markdown",
   "metadata": {},
   "source": [
    "# Bonus Question"
   ]
  },
  {
   "cell_type": "markdown",
   "metadata": {},
   "source": [
    "Finally, if you still have time, convert your response in Q2 by using `lambda`, `map`, `filter`, or `reduce` where applicable. Enter your function in the cell below.\n",
    "\n",
    "As you write Python functions, generally you don't want to make your function too long. Long functions are difficult to read and difficult to debug. If a function is getting too long, consider breaking it into sever shorter functions where the main function calls other functions. If anything goes wrong, you can output debug messages in each of the functions to check where exactly the error is."
   ]
  },
  {
   "cell_type": "code",
   "execution_count": 179,
   "metadata": {},
   "outputs": [],
   "source": [
    "# Enter your code below\n",
    "\n",
    "# Import required libraries\n",
    "import os\n",
    "import re\n",
    "\n",
    "#function to remove all HTML tags\n",
    "def strip_html_tags(html):\n",
    "    pattern=\"<.+>\"\n",
    "    clean_html = re.sub(pattern,'',html)\n",
    "    return clean_html\n",
    "\n",
    "\n",
    "# function to remove all punctuation\n",
    "def remove_punctuation(html):\n",
    "    pattern=\"[^a-zA-Z0-9 ]|\\n\"\n",
    "    clean_html = re.sub(pattern,'',html)\n",
    "    return clean_html\n",
    "\n",
    "#function to convert string to lowercase\n",
    "def to_lower_case(html):\n",
    "    clean_html = html.lower()\n",
    "    return clean_html\n",
    "\n",
    "#function to remove all unicodes\n",
    "def remove_unicode(html):\n",
    "    pattern = \"[^\\x00-\\x7F]+|&\\w+?;\"\n",
    "    clean_html = re.sub(pattern,' ',html)\n",
    "    return clean_html\n",
    "\n",
    "#function to remove <head> of html file\n",
    "\n",
    "def remove_head(html):\n",
    "    pattern=\"<head>(.|\\n)*?</head>\"\n",
    "    clean_html = re.sub(pattern,'',html)\n",
    "    return clean_html\n",
    "\n",
    "# Function to take out scripts\n",
    "\n",
    "def remove_script(html):\n",
    "    pattern=\"<script>(.|\\n)*?</script>\"\n",
    "    clean_html = re.sub(pattern,'',html)\n",
    "    return clean_html\n",
    "\n",
    "# Function to take out noscripts\n",
    "\n",
    "def remove_noscript(html):\n",
    "    pattern=\"<noscript>(.|\\n)*?</noscript>\"\n",
    "    clean_html = re.sub(pattern,'',html)\n",
    "    return clean_html\n",
    "\n",
    "# Function to take out comments\n",
    "\n",
    "def remove_comments(html):\n",
    "    pattern=\"<!--(.|\\n)*?-->\"\n",
    "    clean_html = re.sub(pattern,'',html)\n",
    "    return clean_html\n",
    "\n",
    "# Function to take out URLS\n",
    "\n",
    "def remove_url(html):\n",
    "    pattern=\"https?://(?:[-\\w.]|(?:%[\\da-fA-F]{2}))+\"\n",
    "    clean_html = re.sub(pattern,'',html)\n",
    "    return clean_html\n",
    "\n",
    "def clean_html(txt):\n",
    "    clean_html = 0\n",
    "    clean_html = to_lower_case(txt)       \n",
    "    clean_html = remove_head(clean_html) \n",
    "    clean_html = remove_comments(clean_html) \n",
    "    clean_html = remove_script(clean_html)        \n",
    "    clean_html = remove_noscript(clean_html)        \n",
    "    clean_html = remove_url(clean_html)        \n",
    "    clean_html = strip_html_tags(clean_html)\n",
    "    clean_html = remove_unicode(clean_html)\n",
    "    clean_html = remove_punctuation(clean_html)    \n",
    "    return clean_html\n",
    "\n",
    "def open_and_clean_html(file):\n",
    "    file_txt = open(file, \"r\")  \n",
    "    txt = file_txt.read()\n",
    "    txt = clean_html(txt)       \n",
    "    pattern = \"\\w+\"\n",
    "    txt = (\" \".join(re.findall(pattern, txt)))\n",
    "    return txt"
   ]
  },
  {
   "cell_type": "code",
   "execution_count": 180,
   "metadata": {},
   "outputs": [],
   "source": [
    "#Improved get_bow_from_docs\n",
    "\n",
    "def get_bow_from_docs(docs, stop_words=[]):\n",
    "    # In the function, first define the variables you will use such as `corpus`, `bag_of_words`, and `term_freq`.\n",
    "    corpus = []\n",
    "    bag_of_words = []\n",
    "    term_freq = []\n",
    "    \n",
    "    \"\"\"\n",
    "    Loop `docs` and read the content of each doc into a string in `corpus`.\n",
    "    Remember to convert the doc content to lowercases and remove punctuation.\n",
    "    \"\"\"  \n",
    "    \n",
    "    #IMPLEMENTING A MAP LAMBDA FOR CRESATING A CORPUS\n",
    "    \n",
    "    corpus = list(map(lambda doc: open_and_clean_html(doc), docs))\n",
    "\n",
    "    \"\"\"\n",
    "    Loop `corpus`. Append the terms in each doc into the `bag_of_words` array. The terms in `bag_of_words` \n",
    "    should be unique which means before adding each term you need to check if it's already added to the array.\n",
    "    In addition, check if each term is in the `stop_words` array. Only append the term to `bag_of_words`\n",
    "    if it is not a stop word.\n",
    "    \"\"\"\n",
    "    for string in corpus:\n",
    "        terms = string.split()\n",
    "        for term in terms:\n",
    "            if term not in bag_of_words and term not in stop_words:\n",
    "                bag_of_words.append(term)\n",
    "    \"\"\"\n",
    "    Loop `corpus` again. For each doc string, count the number of occurrences of each term in `bag_of_words`. \n",
    "    Create an array for each doc's term frequency and append it to `term_freq`.\n",
    "    \"\"\"\n",
    "    for string in corpus:\n",
    "        string_terms = string.split()\n",
    "        string_term_count = []\n",
    "        for term in bag_of_words:\n",
    "            count = 0\n",
    "            for i in range(0, len(string_terms)):\n",
    "                if term == string_terms[i]:\n",
    "                    count += 1\n",
    "            string_term_count.append(count)   \n",
    "        term_freq.append(string_term_count)\n",
    "\n",
    "    \n",
    "    return {\n",
    "        \"bag_of_words\": bag_of_words,\n",
    "        \"term_freq\": term_freq\n",
    "    }\n",
    "    "
   ]
  },
  {
   "cell_type": "markdown",
   "metadata": {},
   "source": [
    "Test your function below with the Bag of Words lab docs (it's easier for you to debug your code). Your output should be:\n",
    "\n",
    "```{'bag_of_words': ['ironhack', 'cool', 'love', 'student'], 'term_freq': [[1, 1, 0, 0], [1, 0, 1, 0], [1, 0, 0, 1]]}```"
   ]
  },
  {
   "cell_type": "code",
   "execution_count": 181,
   "metadata": {},
   "outputs": [
    {
     "name": "stdout",
     "output_type": "stream",
     "text": [
      "{'bag_of_words': ['ironhack', 'cool', 'love', 'student'], 'term_freq': [[1, 1, 0, 0], [1, 0, 1, 0], [1, 0, 0, 1]]}\n"
     ]
    }
   ],
   "source": [
    "from sklearn.feature_extraction import stop_words\n",
    "bow = get_bow_from_docs([\n",
    "    'doc1.txt', \n",
    "    'doc2.txt', \n",
    "    'doc3.txt'],\n",
    "    stop_words.ENGLISH_STOP_WORDS\n",
    ")\n",
    "\n",
    "print(bow)"
   ]
  },
  {
   "cell_type": "code",
   "execution_count": null,
   "metadata": {},
   "outputs": [],
   "source": []
  }
 ],
 "metadata": {
  "kernelspec": {
   "display_name": "Python 3",
   "language": "python",
   "name": "python3"
  },
  "language_info": {
   "codemirror_mode": {
    "name": "ipython",
    "version": 3
   },
   "file_extension": ".py",
   "mimetype": "text/x-python",
   "name": "python",
   "nbconvert_exporter": "python",
   "pygments_lexer": "ipython3",
   "version": "3.7.3"
  }
 },
 "nbformat": 4,
 "nbformat_minor": 2
}
